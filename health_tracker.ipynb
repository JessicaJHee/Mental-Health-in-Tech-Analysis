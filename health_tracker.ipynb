{
 "cells": [
  {
   "cell_type": "code",
   "execution_count": 1,
   "id": "2b8d1193-183d-4197-b261-a275adfd8bca",
   "metadata": {},
   "outputs": [],
   "source": [
    "import sqlite3\n",
    "import pandas as pd\n",
    "import plotly.express as px\n",
    "pd.options.mode.chained_assignment = None  # default='warn'\n",
    "from plotly.subplots import make_subplots\n",
    "import plotly.graph_objects as go\n",
    "import plotly.express as px\n",
    "from plotly.offline import plot"
   ]
  },
  {
   "cell_type": "markdown",
   "id": "d5c14daa-c171-499d-8170-b9f254cebeb9",
   "metadata": {},
   "source": [
    "Let's load in the data into a dataframe!"
   ]
  },
  {
   "cell_type": "code",
   "execution_count": 2,
   "id": "483f8bb0-9904-482a-adf9-ee952d854f9e",
   "metadata": {},
   "outputs": [],
   "source": [
    "con = sqlite3.connect('mental_health.sqlite')\n",
    "qna = \"\"\"\n",
    "SELECT * from Answer inner join Question on \n",
    "Answer.QuestionID=Question.questionid\n",
    "\"\"\"\n",
    "#sort by userID\n",
    "qna_df = pd.read_sql_query(qna, con, index_col = 'UserID').sort_index()\n",
    "#remove the unnecessary columns\n",
    "qna_df = qna_df[['SurveyID', 'questiontext', 'AnswerText', 'questionid']]"
   ]
  },
  {
   "cell_type": "markdown",
   "id": "88593e22-e2b0-42aa-bda2-ffab5d6e3b64",
   "metadata": {},
   "source": [
    "Examine the gender of our data"
   ]
  },
  {
   "cell_type": "code",
   "execution_count": 3,
   "id": "6c14beb1-7f81-415f-8d67-fb108642113b",
   "metadata": {},
   "outputs": [],
   "source": [
    "#graph the demographic of data set\n",
    "gender = qna_df[qna_df['questiontext'] == 'What is your gender?']\n",
    "#clean up gender data to 3 categories\n",
    "gender.loc[gender['AnswerText'] == 'male', ['Gender']] = 'Male'\n",
    "gender.loc[gender['AnswerText'] == 'Male', ['Gender']] = 'Male'\n",
    "gender.loc[gender['AnswerText'] == 'female', ['Gender']] = 'Female'\n",
    "gender.loc[gender['AnswerText'] == 'Female', ['Gender']] = 'Female'\n",
    "gender.loc[(gender['AnswerText'] != 'Female') & (gender['AnswerText'] !='female') &\n",
    "           (gender['AnswerText'] !='male') & (gender['AnswerText'] !='Male'),\n",
    "           ['Gender']] = 'Other'\n",
    "\n",
    "#graph subplots of gender data for each year\n",
    "def graph_by_year(gender, year):\n",
    "    #get rid of vaccinations unrelated to current year\n",
    "    current = gender.copy(deep=True)\n",
    "    current = current[current['SurveyID'].isin([year])]\n",
    "    labels = ['Male', 'Female', 'Others']\n",
    "    count = current['Gender'].value_counts()\n",
    "    values  = [count['Male'], count['Female'], count['Other']]\n",
    "    gender_fig = px.pie(current, names = labels, values = values, title = 'Gender Distribution of data in '+\n",
    "                        str(year), color_discrete_sequence=px.colors.qualitative.Pastel)\n",
    "    gender_fig.show()"
   ]
  },
  {
   "cell_type": "code",
   "execution_count": 4,
   "id": "06e871e6-fee6-4cd6-ba3b-9c24156672a1",
   "metadata": {},
   "outputs": [],
   "source": [
    "#graph the gender data for each year\n",
    "for year in range (2014, 2020):\n",
    "    if year == 2015:\n",
    "        continue\n",
    "    #graph_by_year(gender, year)"
   ]
  },
  {
   "cell_type": "markdown",
   "id": "d73ed7aa-cb6b-4ff8-bd82-86c47c11d15c",
   "metadata": {},
   "source": [
    "From these graphs, we see that the majority of people who took this survey are men. An interesting note is that the 'Other' category is increasing as the industry becomes more progressive!\n",
    "\n",
    "Now, let's take a look at the age:"
   ]
  },
  {
   "cell_type": "code",
   "execution_count": 5,
   "id": "a2916063-f0c7-4f54-8a21-d3b643fcd21b",
   "metadata": {},
   "outputs": [],
   "source": [
    "#visualize age data distribution\n",
    "age = qna_df[qna_df['questiontext'] == 'What is your age?']\n",
    "age['AnswerText']=age['AnswerText'].astype(int)\n",
    "age.sort_values(by = ['AnswerText'])\n",
    "age = age.loc[(age.AnswerText <80) & (age.AnswerText > 18) ]\n",
    "age_data = px.histogram(age, x = 'AnswerText')\n",
    "#age_data.show()"
   ]
  },
  {
   "cell_type": "markdown",
   "id": "f134ec2c-b29e-450b-a90f-814f6b6d349e",
   "metadata": {},
   "source": [
    "Next, let's checkout which countries does the data come from:"
   ]
  },
  {
   "cell_type": "code",
   "execution_count": 6,
   "id": "fc2526b7-4ea1-433c-a025-aa77c600377a",
   "metadata": {},
   "outputs": [],
   "source": [
    "#country data\n",
    "country = qna_df[qna_df['questiontext'] == 'What country do you live in?']\n",
    "country.loc[country['AnswerText'] == 'United States of America', ['AnswerText']] = 'United States'\n",
    "#sort the sympotoms by frequency of appearance\n",
    "country['Freq']= country.groupby('AnswerText')['AnswerText'].transform ('count')\n",
    "country.sort_values('Freq', inplace=True, ascending=False)\n",
    "\n",
    "#remove the less common symptoms\n",
    "country = country.drop(country[country.Freq < 50].index)\n",
    "country['Country'] = country['AnswerText']"
   ]
  },
  {
   "cell_type": "code",
   "execution_count": 7,
   "id": "23bbc19e-880e-4025-9802-7e3da3af698c",
   "metadata": {},
   "outputs": [],
   "source": [
    "#graph out the most common side effects\n",
    "country_graph = px.histogram(country['Country'],title = 'Demographic by country', x = 'Country',color_discrete_sequence=px.colors.qualitative.Pastel)\n",
    "#country_graph.show()"
   ]
  },
  {
   "cell_type": "markdown",
   "id": "2d309abb-bdf2-43da-a28e-70463b762874",
   "metadata": {},
   "source": [
    "The final determining factor that will be examined is the size of organization:"
   ]
  },
  {
   "cell_type": "code",
   "execution_count": 8,
   "id": "a5684c44-f173-4504-b384-1b8f05b18d23",
   "metadata": {},
   "outputs": [],
   "source": [
    "#clean the data for graph\n",
    "size = qna_df[qna_df['questionid'] == 8]\n",
    "size['Size'] = size['AnswerText']\n",
    "size = size[size.Size != '-1']"
   ]
  },
  {
   "cell_type": "code",
   "execution_count": 9,
   "id": "caad7370-0071-4e20-833f-ebd2389f9148",
   "metadata": {},
   "outputs": [],
   "source": [
    "#graph out the most common side effects\n",
    "size_graph = px.histogram(size['Size'],title = 'Size of Organization', \n",
    "                          x = 'Size',color_discrete_sequence=px.colors.qualitative.Pastel,\n",
    "                         category_orders = {'Size':['1-5', '6-25', '26-100', '100-500', '500-1000', 'More than 1000']})\n",
    "#size_graph.show()"
   ]
  },
  {
   "cell_type": "markdown",
   "id": "6173355c-ddff-42a8-bcbc-3b340812ab7d",
   "metadata": {},
   "source": [
    "After understanding the data we have a little more in terms of its demongraphic, let's examine the trends of mental health services at the workplace over time (2014-2019)"
   ]
  },
  {
   "cell_type": "code",
   "execution_count": 10,
   "id": "7f13d5a5-dfe5-4d9e-85e7-52d1fcacd087",
   "metadata": {},
   "outputs": [],
   "source": [
    "coverage = qna_df[qna_df['questionid'] == 10]\n",
    "cov_df = pd.DataFrame(columns = ['Year', 'Coverage'])\n",
    "\n",
    "#calculate the percentage of reports of mental health services present\n",
    "def calculate_cov(coverage, cov_df,  year, counter):\n",
    "    current = coverage.copy(deep=True)\n",
    "    current = current[current['SurveyID'].isin([year])]\n",
    "    dist = current['AnswerText'].value_counts(normalize = True)*100\n",
    "    cov_df.loc[counter]= [str(year)]+[dist['Yes']]\n",
    "counter = 0\n",
    "for year in range (2014, 2020):\n",
    "    if year == 2015:\n",
    "        continue\n",
    "    calculate_cov(coverage, cov_df, year, counter)\n",
    "    counter+=1"
   ]
  },
  {
   "cell_type": "code",
   "execution_count": 11,
   "id": "ad741a8c-0565-469c-84dd-696b9a739f3f",
   "metadata": {},
   "outputs": [],
   "source": [
    "#show the coverage percentage change with line graph\n",
    "coverage_graph = px.line(cov_df, x = 'Year', y= 'Coverage', title = 'Percentage of Companies with Mental Health Coverage')\n",
    "#coverage_graph.update_traces(mode='markers+lines')\n",
    "#coverage_graph.show()"
   ]
  },
  {
   "cell_type": "markdown",
   "id": "5027c367-8aa6-4115-8688-23604ea64c2c",
   "metadata": {},
   "source": [
    "Does the workplace welcome and accept open conversation about mental health? Let's see the willingness to dicuss these issues with coworkers or supervisors:"
   ]
  },
  {
   "cell_type": "code",
   "execution_count": 12,
   "id": "0065ac2d-6f59-429d-b694-228dbf1a8379",
   "metadata": {},
   "outputs": [],
   "source": [
    "coworker_disc = qna_df[qna_df['questionid'] == 99]\n",
    "age_disc = age[age['SurveyID'].isin([2014])]\n",
    "coworker_disc ['age'] = age_disc['AnswerText']\n",
    "coworker_disc['Willingness'] = coworker_disc['AnswerText']\n",
    "#do calculations to make a categorical scatter/box plot\n",
    "coworker_disc.loc[coworker_disc['Willingness'] == 'Yes', ['Willingness']] = 'Yes'\n",
    "coworker_disc.loc[coworker_disc['Willingness'] == 'Some of them', ['Willingness']] = 'Some'\n",
    "coworker_disc.loc[coworker_disc['Willingness'] == 'No', ['Willingness']] = 'No'\n",
    "coworker_disc = coworker_disc[['Willingness', 'age']]\n",
    "coworker_disc = coworker_disc.groupby(['Willingness', 'age']).size().reset_index(name=\"Freq\")"
   ]
  },
  {
   "cell_type": "code",
   "execution_count": 13,
   "id": "a171bbef-6511-4a19-91fd-4f4038541b77",
   "metadata": {},
   "outputs": [],
   "source": [
    "#plot on bubble chart\n",
    "coworker_graph = px.scatter(coworker_disc, x = 'age', y = 'Willingness', size = 'Freq',color_discrete_sequence=px.colors.qualitative.Pastel)\n",
    "#coworker_graph.show()"
   ]
  },
  {
   "cell_type": "markdown",
   "id": "ed396ad2-bf2f-4706-b1b5-1c4812002cc6",
   "metadata": {},
   "source": [
    "In comparison to supervisor?"
   ]
  },
  {
   "cell_type": "code",
   "execution_count": 14,
   "id": "89ce0b89-f4b8-44b8-ae8a-c8525ec5f45a",
   "metadata": {},
   "outputs": [],
   "source": [
    "sup_disc = qna_df[qna_df['questionid'] == 100]\n",
    "sup_disc ['age'] = age_disc['AnswerText']\n",
    "sup_disc['Willingness'] = sup_disc['AnswerText']\n",
    "#do calculations to make a categorical scatter/box plot\n",
    "sup_disc.loc[sup_disc['Willingness'] == 'Yes', ['Willingness']] = 'Yes'\n",
    "sup_disc.loc[sup_disc['Willingness'] == 'Some of them', ['Willingness']] = 'Some'\n",
    "sup_disc.loc[sup_disc['Willingness'] == 'No', ['Willingness']] = 'No'\n",
    "sup_disc = sup_disc[['Willingness', 'age']]\n",
    "sup_disc = sup_disc.groupby(['Willingness', 'age']).size().reset_index(name=\"Freq\")"
   ]
  },
  {
   "cell_type": "code",
   "execution_count": 15,
   "id": "687128a6-0958-4849-ba3b-9ffe949dc157",
   "metadata": {},
   "outputs": [],
   "source": [
    "#plot on bubble chart\n",
    "sup_graph = px.scatter(sup_disc, x = 'age', y = 'Willingness', size = 'Freq',color_discrete_sequence=px.colors.qualitative.Pastel)\n",
    "#sup_graph.show()"
   ]
  },
  {
   "cell_type": "markdown",
   "id": "ce2a5589-1940-4e51-ba55-2aa79f637f7a",
   "metadata": {},
   "source": [
    "By comparing the two, we can see that a lot more people are more comfortable with talking to supervisors than coworkers. At the same time, more people are not willing to talk to their supervisors. This reveals that not all"
   ]
  },
  {
   "cell_type": "code",
   "execution_count": 16,
   "id": "1d509d32-afe1-462a-9db3-f253bfe9bc86",
   "metadata": {},
   "outputs": [],
   "source": [
    "imp = qna_df[qna_df['questionid'] == 65]\n",
    "health = qna_df[qna_df['questionid'] == 64]\n",
    "health ['HealthRating'] = health['AnswerText']\n",
    "imp ['MentalRating'] = imp ['AnswerText']\n",
    "imp['MentalRating']=imp['MentalRating'].astype(int)\n",
    "health['HealthRating']=health['HealthRating'].astype(int)\n",
    "imp = imp.groupby(['MentalRating']).size().reset_index(name = 'Freq_mental')\n",
    "health = health.groupby(['HealthRating']).size().reset_index(name = 'Freq_physical')\n",
    "imp ['Freq_physical'] = health['Freq_physical']\n",
    "#drop NA cases\n",
    "imp = imp.drop([0,1])\n",
    "imp_fig = px.bar(imp, x= 'MentalRating', y= ['Freq_mental','Freq_physical'], barmode = 'group', title = 'Mental vs. Physical Health Importance'\n",
    "                 ,color_discrete_sequence=px.colors.qualitative.Pastel)\n",
    "#imp_fig.show()"
   ]
  },
  {
   "cell_type": "markdown",
   "id": "5213e46e-35f4-4501-81b2-c1c7fa920424",
   "metadata": {},
   "source": [
    "As shown in the graph, it is clear that most companies place more importance on physical health in comparison to mental.\n",
    "\n",
    "Now, let's take a look at whether those in tech feel like they will receive negative consequences for speaking up about mental health with respect to the size of the company: "
   ]
  },
  {
   "cell_type": "code",
   "execution_count": 35,
   "id": "68f39476-d559-42d3-a087-c74f1aef77fd",
   "metadata": {},
   "outputs": [
    {
     "data": {
      "application/vnd.plotly.v1+json": {
       "config": {
        "plotlyServerURL": "https://plot.ly"
       },
       "data": [
        {
         "alignmentgroup": "True",
         "bingroup": "x",
         "histfunc": "sum",
         "hovertemplate": "Size=%{x}<br>sum of No Consequence Rate=%{y}<extra></extra>",
         "legendgroup": "",
         "marker": {
          "color": "rgb(102, 197, 204)"
         },
         "name": "",
         "offsetgroup": "",
         "orientation": "v",
         "showlegend": false,
         "type": "histogram",
         "x": [
          "1-5",
          "100-500",
          "26-100",
          "500-1000",
          "6-25",
          "More than 1000"
         ],
         "xaxis": "x",
         "y": [
          0.2345679012345679,
          0.2215909090909091,
          0.22837370242214533,
          0.22950819672131148,
          0.1896551724137931,
          0.2872340425531915
         ],
         "yaxis": "y"
        }
       ],
       "layout": {
        "autosize": true,
        "barmode": "relative",
        "legend": {
         "tracegroupgap": 0
        },
        "template": {
         "data": {
          "bar": [
           {
            "error_x": {
             "color": "#2a3f5f"
            },
            "error_y": {
             "color": "#2a3f5f"
            },
            "marker": {
             "line": {
              "color": "#E5ECF6",
              "width": 0.5
             }
            },
            "type": "bar"
           }
          ],
          "barpolar": [
           {
            "marker": {
             "line": {
              "color": "#E5ECF6",
              "width": 0.5
             }
            },
            "type": "barpolar"
           }
          ],
          "carpet": [
           {
            "aaxis": {
             "endlinecolor": "#2a3f5f",
             "gridcolor": "white",
             "linecolor": "white",
             "minorgridcolor": "white",
             "startlinecolor": "#2a3f5f"
            },
            "baxis": {
             "endlinecolor": "#2a3f5f",
             "gridcolor": "white",
             "linecolor": "white",
             "minorgridcolor": "white",
             "startlinecolor": "#2a3f5f"
            },
            "type": "carpet"
           }
          ],
          "choropleth": [
           {
            "colorbar": {
             "outlinewidth": 0,
             "ticks": ""
            },
            "type": "choropleth"
           }
          ],
          "contour": [
           {
            "colorbar": {
             "outlinewidth": 0,
             "ticks": ""
            },
            "colorscale": [
             [
              0,
              "#0d0887"
             ],
             [
              0.1111111111111111,
              "#46039f"
             ],
             [
              0.2222222222222222,
              "#7201a8"
             ],
             [
              0.3333333333333333,
              "#9c179e"
             ],
             [
              0.4444444444444444,
              "#bd3786"
             ],
             [
              0.5555555555555556,
              "#d8576b"
             ],
             [
              0.6666666666666666,
              "#ed7953"
             ],
             [
              0.7777777777777778,
              "#fb9f3a"
             ],
             [
              0.8888888888888888,
              "#fdca26"
             ],
             [
              1,
              "#f0f921"
             ]
            ],
            "type": "contour"
           }
          ],
          "contourcarpet": [
           {
            "colorbar": {
             "outlinewidth": 0,
             "ticks": ""
            },
            "type": "contourcarpet"
           }
          ],
          "heatmap": [
           {
            "colorbar": {
             "outlinewidth": 0,
             "ticks": ""
            },
            "colorscale": [
             [
              0,
              "#0d0887"
             ],
             [
              0.1111111111111111,
              "#46039f"
             ],
             [
              0.2222222222222222,
              "#7201a8"
             ],
             [
              0.3333333333333333,
              "#9c179e"
             ],
             [
              0.4444444444444444,
              "#bd3786"
             ],
             [
              0.5555555555555556,
              "#d8576b"
             ],
             [
              0.6666666666666666,
              "#ed7953"
             ],
             [
              0.7777777777777778,
              "#fb9f3a"
             ],
             [
              0.8888888888888888,
              "#fdca26"
             ],
             [
              1,
              "#f0f921"
             ]
            ],
            "type": "heatmap"
           }
          ],
          "heatmapgl": [
           {
            "colorbar": {
             "outlinewidth": 0,
             "ticks": ""
            },
            "colorscale": [
             [
              0,
              "#0d0887"
             ],
             [
              0.1111111111111111,
              "#46039f"
             ],
             [
              0.2222222222222222,
              "#7201a8"
             ],
             [
              0.3333333333333333,
              "#9c179e"
             ],
             [
              0.4444444444444444,
              "#bd3786"
             ],
             [
              0.5555555555555556,
              "#d8576b"
             ],
             [
              0.6666666666666666,
              "#ed7953"
             ],
             [
              0.7777777777777778,
              "#fb9f3a"
             ],
             [
              0.8888888888888888,
              "#fdca26"
             ],
             [
              1,
              "#f0f921"
             ]
            ],
            "type": "heatmapgl"
           }
          ],
          "histogram": [
           {
            "marker": {
             "colorbar": {
              "outlinewidth": 0,
              "ticks": ""
             }
            },
            "type": "histogram"
           }
          ],
          "histogram2d": [
           {
            "colorbar": {
             "outlinewidth": 0,
             "ticks": ""
            },
            "colorscale": [
             [
              0,
              "#0d0887"
             ],
             [
              0.1111111111111111,
              "#46039f"
             ],
             [
              0.2222222222222222,
              "#7201a8"
             ],
             [
              0.3333333333333333,
              "#9c179e"
             ],
             [
              0.4444444444444444,
              "#bd3786"
             ],
             [
              0.5555555555555556,
              "#d8576b"
             ],
             [
              0.6666666666666666,
              "#ed7953"
             ],
             [
              0.7777777777777778,
              "#fb9f3a"
             ],
             [
              0.8888888888888888,
              "#fdca26"
             ],
             [
              1,
              "#f0f921"
             ]
            ],
            "type": "histogram2d"
           }
          ],
          "histogram2dcontour": [
           {
            "colorbar": {
             "outlinewidth": 0,
             "ticks": ""
            },
            "colorscale": [
             [
              0,
              "#0d0887"
             ],
             [
              0.1111111111111111,
              "#46039f"
             ],
             [
              0.2222222222222222,
              "#7201a8"
             ],
             [
              0.3333333333333333,
              "#9c179e"
             ],
             [
              0.4444444444444444,
              "#bd3786"
             ],
             [
              0.5555555555555556,
              "#d8576b"
             ],
             [
              0.6666666666666666,
              "#ed7953"
             ],
             [
              0.7777777777777778,
              "#fb9f3a"
             ],
             [
              0.8888888888888888,
              "#fdca26"
             ],
             [
              1,
              "#f0f921"
             ]
            ],
            "type": "histogram2dcontour"
           }
          ],
          "mesh3d": [
           {
            "colorbar": {
             "outlinewidth": 0,
             "ticks": ""
            },
            "type": "mesh3d"
           }
          ],
          "parcoords": [
           {
            "line": {
             "colorbar": {
              "outlinewidth": 0,
              "ticks": ""
             }
            },
            "type": "parcoords"
           }
          ],
          "pie": [
           {
            "automargin": true,
            "type": "pie"
           }
          ],
          "scatter": [
           {
            "marker": {
             "colorbar": {
              "outlinewidth": 0,
              "ticks": ""
             }
            },
            "type": "scatter"
           }
          ],
          "scatter3d": [
           {
            "line": {
             "colorbar": {
              "outlinewidth": 0,
              "ticks": ""
             }
            },
            "marker": {
             "colorbar": {
              "outlinewidth": 0,
              "ticks": ""
             }
            },
            "type": "scatter3d"
           }
          ],
          "scattercarpet": [
           {
            "marker": {
             "colorbar": {
              "outlinewidth": 0,
              "ticks": ""
             }
            },
            "type": "scattercarpet"
           }
          ],
          "scattergeo": [
           {
            "marker": {
             "colorbar": {
              "outlinewidth": 0,
              "ticks": ""
             }
            },
            "type": "scattergeo"
           }
          ],
          "scattergl": [
           {
            "marker": {
             "colorbar": {
              "outlinewidth": 0,
              "ticks": ""
             }
            },
            "type": "scattergl"
           }
          ],
          "scattermapbox": [
           {
            "marker": {
             "colorbar": {
              "outlinewidth": 0,
              "ticks": ""
             }
            },
            "type": "scattermapbox"
           }
          ],
          "scatterpolar": [
           {
            "marker": {
             "colorbar": {
              "outlinewidth": 0,
              "ticks": ""
             }
            },
            "type": "scatterpolar"
           }
          ],
          "scatterpolargl": [
           {
            "marker": {
             "colorbar": {
              "outlinewidth": 0,
              "ticks": ""
             }
            },
            "type": "scatterpolargl"
           }
          ],
          "scatterternary": [
           {
            "marker": {
             "colorbar": {
              "outlinewidth": 0,
              "ticks": ""
             }
            },
            "type": "scatterternary"
           }
          ],
          "surface": [
           {
            "colorbar": {
             "outlinewidth": 0,
             "ticks": ""
            },
            "colorscale": [
             [
              0,
              "#0d0887"
             ],
             [
              0.1111111111111111,
              "#46039f"
             ],
             [
              0.2222222222222222,
              "#7201a8"
             ],
             [
              0.3333333333333333,
              "#9c179e"
             ],
             [
              0.4444444444444444,
              "#bd3786"
             ],
             [
              0.5555555555555556,
              "#d8576b"
             ],
             [
              0.6666666666666666,
              "#ed7953"
             ],
             [
              0.7777777777777778,
              "#fb9f3a"
             ],
             [
              0.8888888888888888,
              "#fdca26"
             ],
             [
              1,
              "#f0f921"
             ]
            ],
            "type": "surface"
           }
          ],
          "table": [
           {
            "cells": {
             "fill": {
              "color": "#EBF0F8"
             },
             "line": {
              "color": "white"
             }
            },
            "header": {
             "fill": {
              "color": "#C8D4E3"
             },
             "line": {
              "color": "white"
             }
            },
            "type": "table"
           }
          ]
         },
         "layout": {
          "annotationdefaults": {
           "arrowcolor": "#2a3f5f",
           "arrowhead": 0,
           "arrowwidth": 1
          },
          "autotypenumbers": "strict",
          "coloraxis": {
           "colorbar": {
            "outlinewidth": 0,
            "ticks": ""
           }
          },
          "colorscale": {
           "diverging": [
            [
             0,
             "#8e0152"
            ],
            [
             0.1,
             "#c51b7d"
            ],
            [
             0.2,
             "#de77ae"
            ],
            [
             0.3,
             "#f1b6da"
            ],
            [
             0.4,
             "#fde0ef"
            ],
            [
             0.5,
             "#f7f7f7"
            ],
            [
             0.6,
             "#e6f5d0"
            ],
            [
             0.7,
             "#b8e186"
            ],
            [
             0.8,
             "#7fbc41"
            ],
            [
             0.9,
             "#4d9221"
            ],
            [
             1,
             "#276419"
            ]
           ],
           "sequential": [
            [
             0,
             "#0d0887"
            ],
            [
             0.1111111111111111,
             "#46039f"
            ],
            [
             0.2222222222222222,
             "#7201a8"
            ],
            [
             0.3333333333333333,
             "#9c179e"
            ],
            [
             0.4444444444444444,
             "#bd3786"
            ],
            [
             0.5555555555555556,
             "#d8576b"
            ],
            [
             0.6666666666666666,
             "#ed7953"
            ],
            [
             0.7777777777777778,
             "#fb9f3a"
            ],
            [
             0.8888888888888888,
             "#fdca26"
            ],
            [
             1,
             "#f0f921"
            ]
           ],
           "sequentialminus": [
            [
             0,
             "#0d0887"
            ],
            [
             0.1111111111111111,
             "#46039f"
            ],
            [
             0.2222222222222222,
             "#7201a8"
            ],
            [
             0.3333333333333333,
             "#9c179e"
            ],
            [
             0.4444444444444444,
             "#bd3786"
            ],
            [
             0.5555555555555556,
             "#d8576b"
            ],
            [
             0.6666666666666666,
             "#ed7953"
            ],
            [
             0.7777777777777778,
             "#fb9f3a"
            ],
            [
             0.8888888888888888,
             "#fdca26"
            ],
            [
             1,
             "#f0f921"
            ]
           ]
          },
          "colorway": [
           "#636efa",
           "#EF553B",
           "#00cc96",
           "#ab63fa",
           "#FFA15A",
           "#19d3f3",
           "#FF6692",
           "#B6E880",
           "#FF97FF",
           "#FECB52"
          ],
          "font": {
           "color": "#2a3f5f"
          },
          "geo": {
           "bgcolor": "white",
           "lakecolor": "white",
           "landcolor": "#E5ECF6",
           "showlakes": true,
           "showland": true,
           "subunitcolor": "white"
          },
          "hoverlabel": {
           "align": "left"
          },
          "hovermode": "closest",
          "mapbox": {
           "style": "light"
          },
          "paper_bgcolor": "white",
          "plot_bgcolor": "#E5ECF6",
          "polar": {
           "angularaxis": {
            "gridcolor": "white",
            "linecolor": "white",
            "ticks": ""
           },
           "bgcolor": "#E5ECF6",
           "radialaxis": {
            "gridcolor": "white",
            "linecolor": "white",
            "ticks": ""
           }
          },
          "scene": {
           "xaxis": {
            "backgroundcolor": "#E5ECF6",
            "gridcolor": "white",
            "gridwidth": 2,
            "linecolor": "white",
            "showbackground": true,
            "ticks": "",
            "zerolinecolor": "white"
           },
           "yaxis": {
            "backgroundcolor": "#E5ECF6",
            "gridcolor": "white",
            "gridwidth": 2,
            "linecolor": "white",
            "showbackground": true,
            "ticks": "",
            "zerolinecolor": "white"
           },
           "zaxis": {
            "backgroundcolor": "#E5ECF6",
            "gridcolor": "white",
            "gridwidth": 2,
            "linecolor": "white",
            "showbackground": true,
            "ticks": "",
            "zerolinecolor": "white"
           }
          },
          "shapedefaults": {
           "line": {
            "color": "#2a3f5f"
           }
          },
          "ternary": {
           "aaxis": {
            "gridcolor": "white",
            "linecolor": "white",
            "ticks": ""
           },
           "baxis": {
            "gridcolor": "white",
            "linecolor": "white",
            "ticks": ""
           },
           "bgcolor": "#E5ECF6",
           "caxis": {
            "gridcolor": "white",
            "linecolor": "white",
            "ticks": ""
           }
          },
          "title": {
           "x": 0.05
          },
          "xaxis": {
           "automargin": true,
           "gridcolor": "white",
           "linecolor": "white",
           "ticks": "",
           "title": {
            "standoff": 15
           },
           "zerolinecolor": "white",
           "zerolinewidth": 2
          },
          "yaxis": {
           "automargin": true,
           "gridcolor": "white",
           "linecolor": "white",
           "ticks": "",
           "title": {
            "standoff": 15
           },
           "zerolinecolor": "white",
           "zerolinewidth": 2
          }
         }
        },
        "title": {
         "text": "Rate of feeling of free to speak about mental issue without consequences"
        },
        "xaxis": {
         "anchor": "y",
         "autorange": true,
         "categoryarray": [
          "1-5",
          "6-25",
          "26-100",
          "100-500",
          "500-1000",
          "More than 1000"
         ],
         "categoryorder": "array",
         "domain": [
          0,
          1
         ],
         "range": [
          -0.5,
          5.5
         ],
         "title": {
          "text": "Size"
         },
         "type": "category"
        },
        "yaxis": {
         "anchor": "x",
         "autorange": true,
         "domain": [
          0,
          1
         ],
         "range": [
          0,
          0.3023516237402016
         ],
         "title": {
          "text": "sum of No Consequence Rate"
         },
         "type": "linear"
        }
       }
      },
      "image/png": "[encoded data removed]",
      "text/html": [
       "<div>                            <div id=\"79e06fbe-7b4a-4417-835c-c8a7d638a445\" class=\"plotly-graph-div\" style=\"height:525px; width:100%;\"></div>            <script type=\"text/javascript\">                require([\"plotly\"], function(Plotly) {                    window.PLOTLYENV=window.PLOTLYENV || {};                                    if (document.getElementById(\"79e06fbe-7b4a-4417-835c-c8a7d638a445\")) {                    Plotly.newPlot(                        \"79e06fbe-7b4a-4417-835c-c8a7d638a445\",                        [{\"alignmentgroup\": \"True\", \"bingroup\": \"x\", \"histfunc\": \"sum\", \"hovertemplate\": \"Size=%{x}<br>sum of No Consequence Rate=%{y}<extra></extra>\", \"legendgroup\": \"\", \"marker\": {\"color\": \"rgb(102, 197, 204)\"}, \"name\": \"\", \"offsetgroup\": \"\", \"orientation\": \"v\", \"showlegend\": false, \"type\": \"histogram\", \"x\": [\"1-5\", \"100-500\", \"26-100\", \"500-1000\", \"6-25\", \"More than 1000\"], \"xaxis\": \"x\", \"y\": [0.2345679012345679, 0.2215909090909091, 0.22837370242214533, 0.22950819672131148, 0.1896551724137931, 0.2872340425531915], \"yaxis\": \"y\"}],                        {\"barmode\": \"relative\", \"legend\": {\"tracegroupgap\": 0}, \"template\": {\"data\": {\"bar\": [{\"error_x\": {\"color\": \"#2a3f5f\"}, \"error_y\": {\"color\": \"#2a3f5f\"}, \"marker\": {\"line\": {\"color\": \"#E5ECF6\", \"width\": 0.5}}, \"type\": \"bar\"}], \"barpolar\": [{\"marker\": {\"line\": {\"color\": \"#E5ECF6\", \"width\": 0.5}}, \"type\": \"barpolar\"}], \"carpet\": [{\"aaxis\": {\"endlinecolor\": \"#2a3f5f\", \"gridcolor\": \"white\", \"linecolor\": \"white\", \"minorgridcolor\": \"white\", \"startlinecolor\": \"#2a3f5f\"}, \"baxis\": {\"endlinecolor\": \"#2a3f5f\", \"gridcolor\": \"white\", \"linecolor\": \"white\", \"minorgridcolor\": \"white\", \"startlinecolor\": \"#2a3f5f\"}, \"type\": \"carpet\"}], \"choropleth\": [{\"colorbar\": {\"outlinewidth\": 0, \"ticks\": \"\"}, \"type\": \"choropleth\"}], \"contour\": [{\"colorbar\": {\"outlinewidth\": 0, \"ticks\": \"\"}, \"colorscale\": [[0.0, \"#0d0887\"], [0.1111111111111111, \"#46039f\"], [0.2222222222222222, \"#7201a8\"], [0.3333333333333333, \"#9c179e\"], [0.4444444444444444, \"#bd3786\"], [0.5555555555555556, \"#d8576b\"], [0.6666666666666666, \"#ed7953\"], [0.7777777777777778, \"#fb9f3a\"], [0.8888888888888888, \"#fdca26\"], [1.0, \"#f0f921\"]], \"type\": \"contour\"}], \"contourcarpet\": [{\"colorbar\": {\"outlinewidth\": 0, \"ticks\": \"\"}, \"type\": \"contourcarpet\"}], \"heatmap\": [{\"colorbar\": {\"outlinewidth\": 0, \"ticks\": \"\"}, \"colorscale\": [[0.0, \"#0d0887\"], [0.1111111111111111, \"#46039f\"], [0.2222222222222222, \"#7201a8\"], [0.3333333333333333, \"#9c179e\"], [0.4444444444444444, \"#bd3786\"], [0.5555555555555556, \"#d8576b\"], [0.6666666666666666, \"#ed7953\"], [0.7777777777777778, \"#fb9f3a\"], [0.8888888888888888, \"#fdca26\"], [1.0, \"#f0f921\"]], \"type\": \"heatmap\"}], \"heatmapgl\": [{\"colorbar\": {\"outlinewidth\": 0, \"ticks\": \"\"}, \"colorscale\": [[0.0, \"#0d0887\"], [0.1111111111111111, \"#46039f\"], [0.2222222222222222, \"#7201a8\"], [0.3333333333333333, \"#9c179e\"], [0.4444444444444444, \"#bd3786\"], [0.5555555555555556, \"#d8576b\"], [0.6666666666666666, \"#ed7953\"], [0.7777777777777778, \"#fb9f3a\"], [0.8888888888888888, \"#fdca26\"], [1.0, \"#f0f921\"]], \"type\": \"heatmapgl\"}], \"histogram\": [{\"marker\": {\"colorbar\": {\"outlinewidth\": 0, \"ticks\": \"\"}}, \"type\": \"histogram\"}], \"histogram2d\": [{\"colorbar\": {\"outlinewidth\": 0, \"ticks\": \"\"}, \"colorscale\": [[0.0, \"#0d0887\"], [0.1111111111111111, \"#46039f\"], [0.2222222222222222, \"#7201a8\"], [0.3333333333333333, \"#9c179e\"], [0.4444444444444444, \"#bd3786\"], [0.5555555555555556, \"#d8576b\"], [0.6666666666666666, \"#ed7953\"], [0.7777777777777778, \"#fb9f3a\"], [0.8888888888888888, \"#fdca26\"], [1.0, \"#f0f921\"]], \"type\": \"histogram2d\"}], \"histogram2dcontour\": [{\"colorbar\": {\"outlinewidth\": 0, \"ticks\": \"\"}, \"colorscale\": [[0.0, \"#0d0887\"], [0.1111111111111111, \"#46039f\"], [0.2222222222222222, \"#7201a8\"], [0.3333333333333333, \"#9c179e\"], [0.4444444444444444, \"#bd3786\"], [0.5555555555555556, \"#d8576b\"], [0.6666666666666666, \"#ed7953\"], [0.7777777777777778, \"#fb9f3a\"], [0.8888888888888888, \"#fdca26\"], [1.0, \"#f0f921\"]], \"type\": \"histogram2dcontour\"}], \"mesh3d\": [{\"colorbar\": {\"outlinewidth\": 0, \"ticks\": \"\"}, \"type\": \"mesh3d\"}], \"parcoords\": [{\"line\": {\"colorbar\": {\"outlinewidth\": 0, \"ticks\": \"\"}}, \"type\": \"parcoords\"}], \"pie\": [{\"automargin\": true, \"type\": \"pie\"}], \"scatter\": [{\"marker\": {\"colorbar\": {\"outlinewidth\": 0, \"ticks\": \"\"}}, \"type\": \"scatter\"}], \"scatter3d\": [{\"line\": {\"colorbar\": {\"outlinewidth\": 0, \"ticks\": \"\"}}, \"marker\": {\"colorbar\": {\"outlinewidth\": 0, \"ticks\": \"\"}}, \"type\": \"scatter3d\"}], \"scattercarpet\": [{\"marker\": {\"colorbar\": {\"outlinewidth\": 0, \"ticks\": \"\"}}, \"type\": \"scattercarpet\"}], \"scattergeo\": [{\"marker\": {\"colorbar\": {\"outlinewidth\": 0, \"ticks\": \"\"}}, \"type\": \"scattergeo\"}], \"scattergl\": [{\"marker\": {\"colorbar\": {\"outlinewidth\": 0, \"ticks\": \"\"}}, \"type\": \"scattergl\"}], \"scattermapbox\": [{\"marker\": {\"colorbar\": {\"outlinewidth\": 0, \"ticks\": \"\"}}, \"type\": \"scattermapbox\"}], \"scatterpolar\": [{\"marker\": {\"colorbar\": {\"outlinewidth\": 0, \"ticks\": \"\"}}, \"type\": \"scatterpolar\"}], \"scatterpolargl\": [{\"marker\": {\"colorbar\": {\"outlinewidth\": 0, \"ticks\": \"\"}}, \"type\": \"scatterpolargl\"}], \"scatterternary\": [{\"marker\": {\"colorbar\": {\"outlinewidth\": 0, \"ticks\": \"\"}}, \"type\": \"scatterternary\"}], \"surface\": [{\"colorbar\": {\"outlinewidth\": 0, \"ticks\": \"\"}, \"colorscale\": [[0.0, \"#0d0887\"], [0.1111111111111111, \"#46039f\"], [0.2222222222222222, \"#7201a8\"], [0.3333333333333333, \"#9c179e\"], [0.4444444444444444, \"#bd3786\"], [0.5555555555555556, \"#d8576b\"], [0.6666666666666666, \"#ed7953\"], [0.7777777777777778, \"#fb9f3a\"], [0.8888888888888888, \"#fdca26\"], [1.0, \"#f0f921\"]], \"type\": \"surface\"}], \"table\": [{\"cells\": {\"fill\": {\"color\": \"#EBF0F8\"}, \"line\": {\"color\": \"white\"}}, \"header\": {\"fill\": {\"color\": \"#C8D4E3\"}, \"line\": {\"color\": \"white\"}}, \"type\": \"table\"}]}, \"layout\": {\"annotationdefaults\": {\"arrowcolor\": \"#2a3f5f\", \"arrowhead\": 0, \"arrowwidth\": 1}, \"autotypenumbers\": \"strict\", \"coloraxis\": {\"colorbar\": {\"outlinewidth\": 0, \"ticks\": \"\"}}, \"colorscale\": {\"diverging\": [[0, \"#8e0152\"], [0.1, \"#c51b7d\"], [0.2, \"#de77ae\"], [0.3, \"#f1b6da\"], [0.4, \"#fde0ef\"], [0.5, \"#f7f7f7\"], [0.6, \"#e6f5d0\"], [0.7, \"#b8e186\"], [0.8, \"#7fbc41\"], [0.9, \"#4d9221\"], [1, \"#276419\"]], \"sequential\": [[0.0, \"#0d0887\"], [0.1111111111111111, \"#46039f\"], [0.2222222222222222, \"#7201a8\"], [0.3333333333333333, \"#9c179e\"], [0.4444444444444444, \"#bd3786\"], [0.5555555555555556, \"#d8576b\"], [0.6666666666666666, \"#ed7953\"], [0.7777777777777778, \"#fb9f3a\"], [0.8888888888888888, \"#fdca26\"], [1.0, \"#f0f921\"]], \"sequentialminus\": [[0.0, \"#0d0887\"], [0.1111111111111111, \"#46039f\"], [0.2222222222222222, \"#7201a8\"], [0.3333333333333333, \"#9c179e\"], [0.4444444444444444, \"#bd3786\"], [0.5555555555555556, \"#d8576b\"], [0.6666666666666666, \"#ed7953\"], [0.7777777777777778, \"#fb9f3a\"], [0.8888888888888888, \"#fdca26\"], [1.0, \"#f0f921\"]]}, \"colorway\": [\"#636efa\", \"#EF553B\", \"#00cc96\", \"#ab63fa\", \"#FFA15A\", \"#19d3f3\", \"#FF6692\", \"#B6E880\", \"#FF97FF\", \"#FECB52\"], \"font\": {\"color\": \"#2a3f5f\"}, \"geo\": {\"bgcolor\": \"white\", \"lakecolor\": \"white\", \"landcolor\": \"#E5ECF6\", \"showlakes\": true, \"showland\": true, \"subunitcolor\": \"white\"}, \"hoverlabel\": {\"align\": \"left\"}, \"hovermode\": \"closest\", \"mapbox\": {\"style\": \"light\"}, \"paper_bgcolor\": \"white\", \"plot_bgcolor\": \"#E5ECF6\", \"polar\": {\"angularaxis\": {\"gridcolor\": \"white\", \"linecolor\": \"white\", \"ticks\": \"\"}, \"bgcolor\": \"#E5ECF6\", \"radialaxis\": {\"gridcolor\": \"white\", \"linecolor\": \"white\", \"ticks\": \"\"}}, \"scene\": {\"xaxis\": {\"backgroundcolor\": \"#E5ECF6\", \"gridcolor\": \"white\", \"gridwidth\": 2, \"linecolor\": \"white\", \"showbackground\": true, \"ticks\": \"\", \"zerolinecolor\": \"white\"}, \"yaxis\": {\"backgroundcolor\": \"#E5ECF6\", \"gridcolor\": \"white\", \"gridwidth\": 2, \"linecolor\": \"white\", \"showbackground\": true, \"ticks\": \"\", \"zerolinecolor\": \"white\"}, \"zaxis\": {\"backgroundcolor\": \"#E5ECF6\", \"gridcolor\": \"white\", \"gridwidth\": 2, \"linecolor\": \"white\", \"showbackground\": true, \"ticks\": \"\", \"zerolinecolor\": \"white\"}}, \"shapedefaults\": {\"line\": {\"color\": \"#2a3f5f\"}}, \"ternary\": {\"aaxis\": {\"gridcolor\": \"white\", \"linecolor\": \"white\", \"ticks\": \"\"}, \"baxis\": {\"gridcolor\": \"white\", \"linecolor\": \"white\", \"ticks\": \"\"}, \"bgcolor\": \"#E5ECF6\", \"caxis\": {\"gridcolor\": \"white\", \"linecolor\": \"white\", \"ticks\": \"\"}}, \"title\": {\"x\": 0.05}, \"xaxis\": {\"automargin\": true, \"gridcolor\": \"white\", \"linecolor\": \"white\", \"ticks\": \"\", \"title\": {\"standoff\": 15}, \"zerolinecolor\": \"white\", \"zerolinewidth\": 2}, \"yaxis\": {\"automargin\": true, \"gridcolor\": \"white\", \"linecolor\": \"white\", \"ticks\": \"\", \"title\": {\"standoff\": 15}, \"zerolinecolor\": \"white\", \"zerolinewidth\": 2}}}, \"title\": {\"text\": \"Rate of feeling of free to speak about mental issue without consequences\"}, \"xaxis\": {\"anchor\": \"y\", \"categoryarray\": [\"1-5\", \"6-25\", \"26-100\", \"100-500\", \"500-1000\", \"More than 1000\"], \"categoryorder\": \"array\", \"domain\": [0.0, 1.0], \"title\": {\"text\": \"Size\"}}, \"yaxis\": {\"anchor\": \"x\", \"domain\": [0.0, 1.0], \"title\": {\"text\": \"sum of No Consequence Rate\"}}},                        {\"responsive\": true}                    ).then(function(){\n",
       "                            \n",
       "var gd = document.getElementById('79e06fbe-7b4a-4417-835c-c8a7d638a445');\n",
       "var x = new MutationObserver(function (mutations, observer) {{\n",
       "        var display = window.getComputedStyle(gd).display;\n",
       "        if (!display || display === 'none') {{\n",
       "            console.log([gd, 'removed!']);\n",
       "            Plotly.purge(gd);\n",
       "            observer.disconnect();\n",
       "        }}\n",
       "}});\n",
       "\n",
       "// Listen for the removal of the full notebook cells\n",
       "var notebookContainer = gd.closest('#notebook-container');\n",
       "if (notebookContainer) {{\n",
       "    x.observe(notebookContainer, {childList: true});\n",
       "}}\n",
       "\n",
       "// Listen for the clearing of the current output cell\n",
       "var outputEl = gd.closest('.output');\n",
       "if (outputEl) {{\n",
       "    x.observe(outputEl, {childList: true});\n",
       "}}\n",
       "\n",
       "                        })                };                });            </script>        </div>"
      ]
     },
     "metadata": {},
     "output_type": "display_data"
    }
   ],
   "source": [
    "neg = qna_df[qna_df['questionid'] == 98]\n",
    "neg['Size'] = size ['Size']\n",
    "#combine the two dfs to find the frequency of duplicate situations\n",
    "neg = neg.groupby (['Size', 'AnswerText']).size().reset_index(name=\"Freq\")\n",
    "neg_df = pd.DataFrame(columns = ['Size', 'No Consequence Rate'])\n",
    "\n",
    "#Calculate the percentage of people who voted 'No'\n",
    "index = 0\n",
    "for counter in range (0, 18, 3):\n",
    "    total = neg['Freq'][counter] + neg['Freq'][counter+1] + neg['Freq'][counter+2]\n",
    "    rate = neg['Freq'][counter+2] /total\n",
    "    neg_df.loc [index] = [neg['Size'][counter]]+[rate]\n",
    "    index +=1\n",
    "\n",
    "#graph out the results\n",
    "neg_graph = px.histogram(neg_df, title = 'Rate of feeling of free to speak about mental issue without consequences', \n",
    "                          x = 'Size',y ='No Consequence Rate' ,color_discrete_sequence=px.colors.qualitative.Pastel,\n",
    "                         category_orders = {'Size':['1-5', '6-25', '26-100', '100-500', '500-1000', 'More than 1000']})\n",
    "neg_graph.show()"
   ]
  },
  {
   "cell_type": "markdown",
   "id": "003cb6c7-5a81-465b-a53b-48e9be918542",
   "metadata": {},
   "source": [
    "Although there is a slight increase of satisfaction when the organization is large, there is no obvious trend between these two factors. "
   ]
  },
  {
   "cell_type": "code",
   "execution_count": null,
   "id": "bc827e1c-aaf9-4d80-9306-ad7672adaa37",
   "metadata": {},
   "outputs": [],
   "source": []
  }
 ],
 "metadata": {
  "kernelspec": {
   "display_name": "Python 3",
   "language": "python",
   "name": "python3"
  },
  "language_info": {
   "codemirror_mode": {
    "name": "ipython",
    "version": 3
   },
   "file_extension": ".py",
   "mimetype": "text/x-python",
   "name": "python",
   "nbconvert_exporter": "python",
   "pygments_lexer": "ipython3",
   "version": "3.8.7"
  }
 },
 "nbformat": 4,
 "nbformat_minor": 5
}
